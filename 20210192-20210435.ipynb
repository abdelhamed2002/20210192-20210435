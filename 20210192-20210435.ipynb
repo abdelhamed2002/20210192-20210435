{
 "cells": [
  {
   "cell_type": "code",
   "execution_count": 1,
   "id": "30e4b5dc-52de-45f5-8c57-cbf80707497e",
   "metadata": {},
   "outputs": [],
   "source": [
    "all = \"∀\"\n",
    "exist = \"∃\""
   ]
  },
  {
   "cell_type": "code",
   "execution_count": 2,
   "id": "6c4dec56-bd11-41b5-9882-e7cb37c43b1e",
   "metadata": {},
   "outputs": [
    {
     "name": "stdout",
     "output_type": "stream",
     "text": [
      "~XvY\n",
      "XvY\n",
      "Xv~Y\n",
      "~Xv~Y\n",
      "~XvY\n"
     ]
    }
   ],
   "source": [
    "import re\n",
    "\n",
    "def eliminate_implication(term):\n",
    "    match = re.search(\"->\", term)\n",
    "    if not match:\n",
    "        return term\n",
    "        \n",
    "    start, end = match.span()\n",
    "    term_chars = list(term)\n",
    "    \n",
    "    term_chars[start: end] = 'v'\n",
    "    if term_chars[0] != '~':\n",
    "        term_chars.insert(0, '~')     \n",
    "    else:\n",
    "        term_chars.pop(0)\n",
    "        \n",
    "    return \"\".join(term_chars)\n",
    "\n",
    "print(eliminate_implication(\"X->Y\"))\n",
    "print(eliminate_implication(\"~X->Y\"))\n",
    "print(eliminate_implication(\"~X->~Y\"))\n",
    "print(eliminate_implication(\"X->~Y\"))\n",
    "print(eliminate_implication(\"~~X->Y\"))"
   ]
  },
  {
   "cell_type": "code",
   "execution_count": 3,
   "id": "ea7baab4-756c-436f-a3f6-f2f4e86e6294",
   "metadata": {},
   "outputs": [
    {
     "name": "stdout",
     "output_type": "stream",
     "text": [
      "~X^~Y\n",
      "~Xv~Y\n",
      "(X^Y)\n",
      "Xv~Y\n",
      "XvY\n",
      "~X\n",
      "X\n",
      "X\n",
      "∃xX\n",
      "∃x~X\n",
      "∀x~X\n",
      "∀xX\n",
      "∃x~X\n"
     ]
    }
   ],
   "source": [
    "def move_negation_inward(term):\n",
    "    match1 = re.search(r\"~\\(\", term)\n",
    "    match2 = re.search(\"~~\", term)\n",
    "    match3 = re.search(\"~\"+all, term)\n",
    "    match4 = re.search(\"~\"+exist, term)\n",
    "    \n",
    "    if not match1 and not match2 and not match3 and not match4:\n",
    "        return term\n",
    "\n",
    "    if match2:\n",
    "        start, end = match2.span()\n",
    "        return move_negation_inward(term[:start] + term[end:])\n",
    "        \n",
    "    if match1:\n",
    "        start, end = match1.span()\n",
    "        \n",
    "        term_chars = list(term)\n",
    "        term_chars.pop(start+1)\n",
    "        term_chars.pop(-1)\n",
    "        \n",
    "        for i in range(len(term_chars)):\n",
    "            if term_chars[i] == 'v':\n",
    "                term_chars[i] = '^'\n",
    "                term_chars.insert(i+1, '~')\n",
    "                \n",
    "            elif term_chars[i] == '^':\n",
    "                term_chars[i] = 'v'\n",
    "                term_chars.insert(i+1, '~')\n",
    "                \n",
    "        return move_negation_inward(\"\".join(term_chars))\n",
    "\n",
    "    if match3: \n",
    "        term_chars = list(term)\n",
    "        if \"\".join(term_chars[:2]) == '~' + all:\n",
    "            term_chars[:3] = exist + term_chars[term_chars.index(all)+1] +'~'\n",
    "            return move_negation_inward(\"\".join(term_chars))\n",
    "            \n",
    "    if match4:\n",
    "        term_chars = list(term)\n",
    "        \n",
    "        if \"\".join(term_chars[:2]) == '~' + exist:\n",
    "            term_chars[:3] = all + term_chars[term_chars.index(exist)+1] +'~'\n",
    "            return move_negation_inward(\"\".join(term_chars))\n",
    "\n",
    "\n",
    "print(move_negation_inward(\"~(XvY)\"))\n",
    "print(move_negation_inward(\"~(X^Y)\"))\n",
    "print(move_negation_inward(\"~~(X^Y)\")) # ~ ~(X^Y) => ~ ~Xv~Y => X^Y\n",
    "print(move_negation_inward(\"~(~X^Y)\")) # ~~Xv~Y => Xv~Y\n",
    "print(move_negation_inward(\"~(~X^~Y)\")) # ~~Xv~~Y => XvY\n",
    "print(move_negation_inward(\"~~~X\"))\n",
    "print(move_negation_inward(\"~~X\"))\n",
    "print(move_negation_inward(\"~~~~X\"))\n",
    "print(move_negation_inward(\"~∀x~X\"))\n",
    "print(move_negation_inward(\"~∀xX\"))\n",
    "print(move_negation_inward(\"~∃xX\"))\n",
    "print(move_negation_inward(\"~∃x~X\"))\n",
    "print(move_negation_inward(\"~~∃x~X\"))"
   ]
  },
  {
   "cell_type": "code",
   "execution_count": 4,
   "id": "2835a123-0010-4473-9d5c-47d2f877f3eb",
   "metadata": {},
   "outputs": [
    {
     "data": {
      "text/plain": [
       "'(∀X P(X)) v(∀Y P(Y)) v(∀Z P(Z)) '"
      ]
     },
     "execution_count": 4,
     "metadata": {},
     "output_type": "execute_result"
    }
   ],
   "source": [
    "# (∀x P( x)) v (∃x Q( x))\n",
    "vars = ['X', 'Y', 'Z']\n",
    "def standardize_variables(term):\n",
    "    lst = term.split('v')\n",
    "    for i in range(len(lst) - 1):\n",
    "        lst[i+1] = ' '.join(map(lambda string: string.replace(vars[i], vars[i+1]), lst[i].split(' ')))\n",
    "    return 'v'.join(lst)\n",
    "    \n",
    "standardize_variables(\"(∀X P(X)) v (∃X Q(X)) v (R(X))\")"
   ]
  },
  {
   "cell_type": "code",
   "execution_count": 5,
   "id": "c9286ba8-a39a-45ae-95ab-ba38d28d4300",
   "metadata": {},
   "outputs": [
    {
     "name": "stdout",
     "output_type": "stream",
     "text": [
      "∀x ∀y( P( x)) ∨ ( Q( y))\n"
     ]
    }
   ],
   "source": [
    "# (∀x P( x)) ∨ (∃y Q( y)) => ∀x ∃y P( x) ∨ Q( y)\n",
    "lst = []\n",
    "\n",
    "def move_all_quantifiers_left(term):\n",
    "    if not all in term:\n",
    "        \n",
    "        return \" \".join(lst) + term\n",
    "        \n",
    "    elif all in term:\n",
    "        lst.append(all + term[term.index(all)+1])\n",
    "        term = term.replace(all + term[term.index(all)+1], \"\")\n",
    "        return move_all_quantifiers_left(term)\n",
    "\n",
    "    \n",
    "print(move_all_quantifiers_left(\"(∀x P( x)) ∨ (∀y Q( y))\"))"
   ]
  },
  {
   "cell_type": "code",
   "execution_count": 26,
   "id": "d929ee10-53a7-4fdb-835e-8af107ef53b9",
   "metadata": {},
   "outputs": [
    {
     "name": "stdout",
     "output_type": "stream",
     "text": [
      " P( A) ∨ Q( B)\n",
      "∀x  P( x) ∨ Q( F(x))\n"
     ]
    }
   ],
   "source": [
    "def skolemization(term):\n",
    "    var = \"\"\n",
    "    replacing_var = \"A\"\n",
    "    if exist in term:\n",
    "        var = term[term.index(exist) + 1]\n",
    "        tmp = exist + var\n",
    "        term = term.replace(tmp, \"\")\n",
    "        if all in term:\n",
    "            replacing_var = 'F(' + term[term.index(all) + 1] + ')'\n",
    "        if replacing_var in(term):\n",
    "            replacing_var = chr(ord(replacing_var) + 1)\n",
    "        term = term.replace(var, replacing_var)\n",
    "    \n",
    "    return term\n",
    "\n",
    "print(skolemization(\"∃y P( A) ∨ Q( y)\"))\n",
    "print(skolemization(\"∀x ∃y P( x) ∨ Q( y)\"))"
   ]
  },
  {
   "cell_type": "code",
   "execution_count": 38,
   "id": "2db69de2-afba-4773-b61b-b432e7f68741",
   "metadata": {},
   "outputs": [
    {
     "name": "stdout",
     "output_type": "stream",
     "text": [
      "P( x) ∨ Q(F ( x))\n",
      "P( x) ∨ Q(F ( x))\n",
      "P( x) ∨ Q(F ( x))\n"
     ]
    }
   ],
   "source": [
    "# ∀x P( x) ∨ Q(F ( x)) → P( x) ∨ Q(F ( x))\n",
    "def eliminate_universal_quantifiers(term):\n",
    "    if all not in term:\n",
    "        return term\n",
    "    tmp = all + term[term.index(all) + 1]\n",
    "    return eliminate_universal_quantifiers(term.replace(tmp, \"\").lstrip())\n",
    "\n",
    "print(eliminate_universal_quantifiers(\"∀x ∀y ∀z P( x) ∨ Q(F ( x))\"))\n",
    "print(eliminate_universal_quantifiers(\"∀x ∀x ∀x P( x) ∨ Q(F ( x))\"))\n",
    "print(eliminate_universal_quantifiers(\"∀x P( x) ∨ Q(F ( x))\"))"
   ]
  },
  {
   "cell_type": "code",
   "execution_count": 67,
   "id": "f5a8a130-f050-49f8-ba7d-340ab2789f0e",
   "metadata": {},
   "outputs": [
    {
     "name": "stdout",
     "output_type": "stream",
     "text": [
      "['p ', ' q v r']\n",
      "['p v q ', 'p v r']\n"
     ]
    }
   ],
   "source": [
    "# p ∨ (q ∧ r) → ( p ∨ q) ∧ ( p ∨ r)\n",
    "def convert_to_CNF(term):\n",
    "    lst1 = []\n",
    "    lst2 = []\n",
    "    str = \"\"\n",
    "    for chr in term:\n",
    "        if chr == '(' or chr == ')': pass\n",
    "        elif chr == '^':\n",
    "            lst2.append(str)\n",
    "            str = str[:-3]\n",
    "        else:\n",
    "            str += chr\n",
    "    lst2.append(str)\n",
    "    print(lst2)\n",
    "convert_to_CNF(\"p ^ (q v r)\")\n",
    "convert_to_CNF(\"p v (q ^ r)\")"
   ]
  },
  {
   "cell_type": "code",
   "execution_count": null,
   "id": "2090072b-737c-47ec-8134-62e052679225",
   "metadata": {},
   "outputs": [],
   "source": []
  }
 ],
 "metadata": {
  "kernelspec": {
   "display_name": "Python 3 (ipykernel)",
   "language": "python",
   "name": "python3"
  },
  "language_info": {
   "codemirror_mode": {
    "name": "ipython",
    "version": 3
   },
   "file_extension": ".py",
   "mimetype": "text/x-python",
   "name": "python",
   "nbconvert_exporter": "python",
   "pygments_lexer": "ipython3",
   "version": "3.12.1"
  }
 },
 "nbformat": 4,
 "nbformat_minor": 5
}
